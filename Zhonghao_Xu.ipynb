{
 "cells": [
  {
   "cell_type": "code",
   "execution_count": 1,
   "metadata": {
    "collapsed": false
   },
   "outputs": [],
   "source": [
    "def divide_name(name, second = False):\n",
    "    halfname = list(name)[:int(len(name)/2)]\n",
    "    halfname = ''.join(halfname)\n",
    "    if second == True:\n",
    "        halfname = list(name)[int(len(name)/2):]\n",
    "        halfname = ''.join(halfname)\n",
    "    return halfname\n"
   ]
  },
  {
   "cell_type": "code",
   "execution_count": 2,
   "metadata": {
    "collapsed": false
   },
   "outputs": [],
   "source": [
    "def merge_names(name1,name2):\n",
    "    name1 = divide_name(name1)\n",
    "    name2 = divide_name(name2, second = True)\n",
    "    newname = name1 + name2\n",
    "    return newname"
   ]
  },
  {
   "cell_type": "code",
   "execution_count": 3,
   "metadata": {
    "collapsed": true
   },
   "outputs": [],
   "source": [
    "def sum_digits(n,lastTwoDigits = False):\n",
    "    s = 0\n",
    "    if lastTwoDigits == False:\n",
    "        while n:\n",
    "            s += n % 10\n",
    "            n //= 10\n",
    "    if lastTwoDigits == True:\n",
    "        for x in range(2):\n",
    "            s += n % 10\n",
    "            n //= 10\n",
    "    return s"
   ]
  },
  {
   "cell_type": "code",
   "execution_count": 4,
   "metadata": {
    "collapsed": false
   },
   "outputs": [
    {
     "data": {
      "text/plain": [
       "'Jvin'"
      ]
     },
     "execution_count": 4,
     "metadata": {},
     "output_type": "execute_result"
    }
   ],
   "source": [
    "first_name_1 = 'Joe'\n",
    "first_name_2 = 'Gavin'\n",
    "merge_names(first_name_1,first_name_2)"
   ]
  },
  {
   "cell_type": "code",
   "execution_count": 5,
   "metadata": {
    "collapsed": false
   },
   "outputs": [
    {
     "data": {
      "text/plain": [
       "'Dueger'"
      ]
     },
     "execution_count": 5,
     "metadata": {},
     "output_type": "execute_result"
    }
   ],
   "source": [
    "second_name_1 = 'Dude'\n",
    "second_name_2 = 'Kroeger'\n",
    "merge_names(second_name_1,second_name_2)"
   ]
  },
  {
   "cell_type": "code",
   "execution_count": 6,
   "metadata": {
    "collapsed": false
   },
   "outputs": [
    {
     "name": "stdout",
     "output_type": "stream",
     "text": [
      "1897639213\n"
     ]
    }
   ],
   "source": [
    "\n",
    "passport = 18\n",
    "for i in range(8):\n",
    "    sum_ = sum_digits(passport, lastTwoDigits = True)\n",
    "    sum_ = sum_ % 10\n",
    "    passport = passport*10 +sum_\n",
    "print passport"
   ]
  },
  {
   "cell_type": "code",
   "execution_count": 7,
   "metadata": {
    "collapsed": false
   },
   "outputs": [
    {
     "name": "stdout",
     "output_type": "stream",
     "text": [
      "02/08/2006\n"
     ]
    }
   ],
   "source": [
    "import time\n",
    "age_1 = 17\n",
    "age_2 = 21\n",
    "new_age = sum_digits(age_1)+sum_digits(age_2)\n",
    "\n",
    "t = time.strftime('%d/%m/%Y')\n",
    "list_t = list(t)\n",
    "new_year = str(int(t[-4:])-new_age)\n",
    "list_t[-4:] = new_year\n",
    "birthday = ''.join(list_t)\n",
    "print birthday"
   ]
  },
  {
   "cell_type": "code",
   "execution_count": null,
   "metadata": {
    "collapsed": false
   },
   "outputs": [],
   "source": []
  },
  {
   "cell_type": "code",
   "execution_count": null,
   "metadata": {
    "collapsed": true
   },
   "outputs": [],
   "source": []
  },
  {
   "cell_type": "code",
   "execution_count": null,
   "metadata": {
    "collapsed": true
   },
   "outputs": [],
   "source": []
  }
 ],
 "metadata": {
  "kernelspec": {
   "display_name": "Python 2",
   "language": "python",
   "name": "python2"
  },
  "language_info": {
   "codemirror_mode": {
    "name": "ipython",
    "version": 2
   },
   "file_extension": ".py",
   "mimetype": "text/x-python",
   "name": "python",
   "nbconvert_exporter": "python",
   "pygments_lexer": "ipython2",
   "version": "2.7.13"
  }
 },
 "nbformat": 4,
 "nbformat_minor": 2
}
