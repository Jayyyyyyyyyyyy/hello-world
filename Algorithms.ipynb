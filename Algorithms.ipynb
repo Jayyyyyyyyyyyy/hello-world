{
 "cells": [
  {
   "cell_type": "markdown",
   "metadata": {
    "collapsed": true
   },
   "source": [
    "# The Algorithms I Learned"
   ]
  },
  {
   "cell_type": "markdown",
   "metadata": {},
   "source": [
    "## Bubble_Sort                            $Big$ $O(n^2)$"
   ]
  },
  {
   "cell_type": "code",
   "execution_count": 6,
   "metadata": {
    "collapsed": true
   },
   "outputs": [],
   "source": [
    "def bubble_sort(mylist):\n",
    "    for i in range(len(mylist)-1):\n",
    "        for j in range(len(mylist)-i-1):\n",
    "            print(j)\n",
    "            if mylist[j] >= mylist[j+1]:\n",
    "                mylist[j],mylist[j+1] = mylist[j+1], mylist[j]\n",
    "    return mylist"
   ]
  },
  {
   "cell_type": "code",
   "execution_count": 7,
   "metadata": {
    "collapsed": false
   },
   "outputs": [
    {
     "name": "stdout",
     "output_type": "stream",
     "text": [
      "0\n",
      "1\n",
      "2\n",
      "0\n",
      "1\n",
      "0\n",
      "[1, 2, 3, 4]\n"
     ]
    }
   ],
   "source": [
    "l = [4,3,2,1]\n",
    "print(bubble_sort(l))"
   ]
  },
  {
   "cell_type": "markdown",
   "metadata": {},
   "source": [
    "## Merge_Sort                             $Big$ $O(nlogn)$"
   ]
  },
  {
   "cell_type": "code",
   "execution_count": 1,
   "metadata": {
    "collapsed": true
   },
   "outputs": [],
   "source": [
    "def merge(left, right):\n",
    "    i = j = 0\n",
    "    output = []\n",
    "    while len(left) > i or len(right) > j:\n",
    "        if len(left) > i and len(right) > j:\n",
    "            if left[i] <= right[j]:\n",
    "                output.append(left[i])\n",
    "                i += 1\n",
    "            else:\n",
    "                output.append(right[j])\n",
    "                j += 1\n",
    "        elif len(left) > i:\n",
    "            output.append(left[i])\n",
    "            i += 1\n",
    "        else:\n",
    "            output.append(right[j])\n",
    "            j += 1\n",
    "    return output\n",
    "def merge_sort(mylist):\n",
    "    \n",
    "    length = len(mylist)\n",
    "    if length <= 1:\n",
    "        return mylist\n",
    "    else:\n",
    "        mid = int(length/2)\n",
    "        left = mylist[:mid]\n",
    "        right = mylist[mid:]\n",
    "        \n",
    "        partition_left = merge_sort(left)\n",
    "        partition_right = merge_sort(right)\n",
    "        return merge(partition_left,partition_right)\n",
    "        "
   ]
  },
  {
   "cell_type": "markdown",
   "metadata": {},
   "source": [
    "## Longest Common Subsequences (LCS)"
   ]
  },
  {
   "cell_type": "code",
   "execution_count": 32,
   "metadata": {
    "collapsed": true
   },
   "outputs": [],
   "source": [
    "def lcs_recursive(xlist,ylist):\n",
    "    if not xlist or not ylist:\n",
    "        return []\n",
    "    x, xs, y, ys, = xlist[0],xlist[1:], ylist[0], ylist[1:]\n",
    "    if x == y:\n",
    "        return [x] + lcs_recursive(xs,ys)\n",
    "    else:\n",
    "        return max(lcs_recursive(xlist, ys), lcs_recursive(xs, ylist), key = len)\n",
    "    "
   ]
  },
  {
   "cell_type": "code",
   "execution_count": 33,
   "metadata": {
    "collapsed": false,
    "scrolled": true
   },
   "outputs": [
    {
     "name": "stdout",
     "output_type": "stream",
     "text": [
      "['b', 'd', 'a', 'b']\n"
     ]
    }
   ],
   "source": [
    "s1 = 'bdcaba'\n",
    "s2 = 'abcbdab'\n",
    "print lcs_recursive(s1,s2)\n"
   ]
  },
  {
   "cell_type": "code",
   "execution_count": 27,
   "metadata": {
    "collapsed": true
   },
   "outputs": [],
   "source": [
    "def lcs_length(a, b):\n",
    "    table = [[0] * (len(b) + 1) for _ in xrange(len(a) + 1)]\n",
    "    for i, ca in enumerate(a, 1):\n",
    "        for j, cb in enumerate(b, 1):\n",
    "            table[i][j] = (\n",
    "                table[i - 1][j - 1] + 1 if ca == cb else\n",
    "                max(table[i][j - 1], table[i - 1][j]))\n",
    "    return table[-1][-1]"
   ]
  },
  {
   "cell_type": "code",
   "execution_count": 28,
   "metadata": {
    "collapsed": false
   },
   "outputs": [
    {
     "name": "stdout",
     "output_type": "stream",
     "text": [
      "[[0, 0, 0, 0, 0, 0, 0], [0, 0, 0, 0, 0, 0, 0], [0, 0, 0, 0, 0, 0, 0], [0, 0, 0, 0, 0, 0, 0], [0, 0, 0, 0, 0, 0, 0], [0, 0, 0, 0, 0, 0, 0], [0, 0, 0, 0, 0, 0, 0]]\n"
     ]
    },
    {
     "data": {
      "text/plain": [
       "4"
      ]
     },
     "execution_count": 28,
     "metadata": {},
     "output_type": "execute_result"
    }
   ],
   "source": [
    "a=[1,2,6,5,4,8]\n",
    "b=[2,1,6,5,4,4]\n",
    "lcs_length(a, b)"
   ]
  },
  {
   "cell_type": "code",
   "execution_count": 29,
   "metadata": {
    "collapsed": false
   },
   "outputs": [
    {
     "name": "stdout",
     "output_type": "stream",
     "text": [
      "[[0, 0, 0, 0, 0, 0, 0, 0], [0, 0, 0, 0, 0, 0, 0, 0], [0, 0, 0, 0, 0, 0, 0, 0], [0, 0, 0, 0, 0, 0, 0, 0], [0, 0, 0, 0, 0, 0, 0, 0], [0, 0, 0, 0, 0, 0, 0, 0], [0, 0, 0, 0, 0, 0, 0, 0]]\n"
     ]
    },
    {
     "data": {
      "text/plain": [
       "4"
      ]
     },
     "execution_count": 29,
     "metadata": {},
     "output_type": "execute_result"
    }
   ],
   "source": [
    "a ='bdcaba'\n",
    "b = 'abcbdab'\n",
    "lcs_length(a, b)"
   ]
  },
  {
   "cell_type": "markdown",
   "metadata": {},
   "source": [
    "## Minimum Edit Distance (Levenshtein)   $Big$ $O(mn)$"
   ]
  },
  {
   "cell_type": "code",
   "execution_count": 37,
   "metadata": {
    "collapsed": true
   },
   "outputs": [],
   "source": [
    "def med(a,b):\n",
    "    index = 0\n",
    "    table =[[0]*(len(b)+1) for _ in xrange(len(a)+1)]\n",
    "    for i in range(len(a)+1):\n",
    "        table[i][0] = i\n",
    "    for j in range(len(b)+1):\n",
    "        table[0][j] = j\n",
    "    \n",
    "    for i, ca in enumerate(a,1):\n",
    "        for j,cb in enumerate(b,1):\n",
    "            table[i][j] = (\n",
    "                min(table[i-1][j]+1,table[i][j-1]+1,table[i-1][j-1]) if ca ==cb \n",
    "            else min(table[i-1][j]+1,table[i][j-1]+1,table[i-1][j-1]+2)) \n",
    "    return table[-1][-1]\n",
    "\n",
    "    \n",
    "    "
   ]
  },
  {
   "cell_type": "code",
   "execution_count": 38,
   "metadata": {
    "collapsed": false
   },
   "outputs": [
    {
     "data": {
      "text/plain": [
       "8"
      ]
     },
     "execution_count": 38,
     "metadata": {},
     "output_type": "execute_result"
    }
   ],
   "source": [
    "a = 'intention'\n",
    "b = 'execution'\n",
    "med(a,b)"
   ]
  },
  {
   "cell_type": "code",
   "execution_count": 41,
   "metadata": {
    "collapsed": false
   },
   "outputs": [
    {
     "name": "stdout",
     "output_type": "stream",
     "text": [
      "5\n"
     ]
    }
   ],
   "source": [
    "word1=\"intention\"\n",
    "\n",
    "word2=\"execution\"\n",
    "\n",
    "len_1=len(word1)\n",
    "\n",
    "len_2=len(word2)\n",
    "\n",
    "x =[[0]*(len_2+1) for _ in range(len_1+1)]#the matrix whose last element ->edit distance\n",
    "\n",
    "for i in range(0,len_1+1): #initialization of base case values\n",
    "\n",
    "    x[i][0]=i\n",
    "for j in range(0,len_2+1):\n",
    "\n",
    "    x[0][j]=j\n",
    "for i in range (1,len_1+1):\n",
    "\n",
    "    for j in range(1,len_2+1):\n",
    "\n",
    "        if word1[i-1]==word2[j-1]:\n",
    "            x[i][j] = x[i-1][j-1] \n",
    "\n",
    "        else :\n",
    "            x[i][j]= min(x[i][j-1],x[i-1][j],x[i-1][j-1])+1\n",
    "\n",
    "print x[i][j]"
   ]
  },
  {
   "cell_type": "code",
   "execution_count": 16,
   "metadata": {
    "collapsed": false
   },
   "outputs": [
    {
     "name": "stdout",
     "output_type": "stream",
     "text": [
      "[1, 1, 0, 0, 0, 1, 1, 1, 0, 0, 0, 1, 1, 1, 0, 0, 0, 1, 1, 1, 0, 0, 0, 1, 1, 1, 0, 0, 0, 1, 1, 1, 0, 0, 0, 1, 1, 1, 0, 0, 0, 1, 1, 1, 0, 0, 0, 1, 1, 1, 0, 0, 0, 1, 1, 1, 0, 0, 0, 1, 1, 1, 0, 0, 0, 1, 1, 1, 0, 0, 0, 1, 1, 1, 0, 0, 0, 1, 1, 1, 0, 0, 0, 1, 1, 1, 0, 0, 0, 1, 1, 1, 0, 0, 0, 1, 1, 1, 0, 0]\n"
     ]
    }
   ],
   "source": [
    "alist = [1]*100\n",
    "for x in range(0,100):\n",
    "    if x % 2 == 0:\n",
    "        alist[x] = 0\n",
    "for i in range(0,100):\n",
    "    if i % 3 ==0:\n",
    "        if alist[i] == 0:\n",
    "            alist[i] = 1\n",
    "        else:\n",
    "            alist[i] = 0\n",
    "            \n",
    "print(alist)"
   ]
  },
  {
   "cell_type": "code",
   "execution_count": null,
   "metadata": {
    "collapsed": true
   },
   "outputs": [],
   "source": []
  }
 ],
 "metadata": {
  "kernelspec": {
   "display_name": "Python 2",
   "language": "python",
   "name": "python2"
  },
  "language_info": {
   "codemirror_mode": {
    "name": "ipython",
    "version": 2
   },
   "file_extension": ".py",
   "mimetype": "text/x-python",
   "name": "python",
   "nbconvert_exporter": "python",
   "pygments_lexer": "ipython2",
   "version": "2.7.13"
  }
 },
 "nbformat": 4,
 "nbformat_minor": 2
}
