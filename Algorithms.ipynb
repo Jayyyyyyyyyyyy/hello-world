{
 "cells": [
  {
   "cell_type": "markdown",
   "metadata": {
    "collapsed": true
   },
   "source": [
    "# The Algorithms I Learned"
   ]
  },
  {
   "cell_type": "markdown",
   "metadata": {},
   "source": [
    "## Bubble_Sort                            $Big$ $O(n^2)$"
   ]
  },
  {
   "cell_type": "code",
   "execution_count": 1,
   "metadata": {
    "collapsed": true
   },
   "outputs": [],
   "source": [
    "def bubble_sort(mylist):\n",
    "    for i in range(len(mylist)-1):\n",
    "        for j in range(len(mylist)-i-1):\n",
    "            print(j)\n",
    "            if mylist[j] >= mylist[j+1]:\n",
    "                mylist[j],mylist[j+1] = mylist[j+1], mylist[j]\n",
    "    return mylist"
   ]
  },
  {
   "cell_type": "code",
   "execution_count": 2,
   "metadata": {},
   "outputs": [
    {
     "name": "stdout",
     "output_type": "stream",
     "text": [
      "0\n",
      "1\n",
      "2\n",
      "0\n",
      "1\n",
      "0\n",
      "[1, 2, 3, 4]\n"
     ]
    }
   ],
   "source": [
    "l = [4,3,2,1]\n",
    "print(bubble_sort(l))"
   ]
  },
  {
   "cell_type": "markdown",
   "metadata": {},
   "source": [
    "## Merge_Sort                             $Big$ $O(nlogn)$"
   ]
  },
  {
   "cell_type": "code",
   "execution_count": 3,
   "metadata": {
    "collapsed": true
   },
   "outputs": [],
   "source": [
    "def merge(left, right):\n",
    "    i = j = 0\n",
    "    output = []\n",
    "    while len(left) > i or len(right) > j:\n",
    "        if len(left) > i and len(right) > j:\n",
    "            if left[i] <= right[j]:\n",
    "                output.append(left[i])\n",
    "                i += 1\n",
    "            else:\n",
    "                output.append(right[j])\n",
    "                j += 1\n",
    "        elif len(left) > i:\n",
    "            output.append(left[i])\n",
    "            i += 1\n",
    "        else:\n",
    "            output.append(right[j])\n",
    "            j += 1\n",
    "    return output\n",
    "def merge_sort(mylist):\n",
    "    \n",
    "    length = len(mylist)\n",
    "    if length <= 1:\n",
    "        return mylist\n",
    "    else:\n",
    "        mid = int(length/2)\n",
    "        left = mylist[:mid]\n",
    "        right = mylist[mid:]\n",
    "        \n",
    "        partition_left = merge_sort(left)\n",
    "        partition_right = merge_sort(right)\n",
    "        return merge(partition_left,partition_right)\n",
    "        "
   ]
  },
  {
   "cell_type": "markdown",
   "metadata": {},
   "source": [
    "## Longest Common Subsequences (LCS)"
   ]
  },
  {
   "cell_type": "code",
   "execution_count": 4,
   "metadata": {
    "collapsed": true
   },
   "outputs": [],
   "source": [
    "def lcs_length(a, b):\n",
    "    table = [[0] * (len(b) + 1) for _ in xrange(len(a) + 1)]\n",
    "    for i, ca in enumerate(a, 1):\n",
    "        for j, cb in enumerate(b, 1):\n",
    "            table[i][j] = (\n",
    "                table[i - 1][j - 1] + 1 if ca == cb else\n",
    "                max(table[i][j - 1], table[i - 1][j]))\n",
    "    return table[-1][-1]"
   ]
  },
  {
   "cell_type": "code",
   "execution_count": 5,
   "metadata": {},
   "outputs": [
    {
     "data": {
      "text/plain": [
       "5"
      ]
     },
     "execution_count": 5,
     "metadata": {},
     "output_type": "execute_result"
    }
   ],
   "source": [
    "a=[1,2,6,4,5,0,4,5,4,8]\n",
    "b=[2,1,6,5,4,4]\n",
    "\n",
    "lcs_length(a, b)\n"
   ]
  },
  {
   "cell_type": "code",
   "execution_count": null,
   "metadata": {
    "collapsed": true
   },
   "outputs": [],
   "source": []
  },
  {
   "cell_type": "code",
   "execution_count": 6,
   "metadata": {},
   "outputs": [
    {
     "data": {
      "text/plain": [
       "4"
      ]
     },
     "execution_count": 6,
     "metadata": {},
     "output_type": "execute_result"
    }
   ],
   "source": [
    "a ='bdcaba'\n",
    "b = 'abcbdab'\n",
    "lcs_length(a, b)"
   ]
  },
  {
   "cell_type": "markdown",
   "metadata": {},
   "source": [
    "## Minimum Edit Distance (Levenshtein)   $Big$ $O(mn)$"
   ]
  },
  {
   "cell_type": "code",
   "execution_count": 7,
   "metadata": {
    "collapsed": true
   },
   "outputs": [],
   "source": [
    "def med(a,b):\n",
    "    index = 0\n",
    "    table =[[0]*(len(b)+1) for _ in xrange(len(a)+1)]\n",
    "    for i in range(len(a)+1):\n",
    "        table[i][0] = i\n",
    "    for j in range(len(b)+1):\n",
    "        table[0][j] = j\n",
    "    \n",
    "    for i, ca in enumerate(a,1):\n",
    "        for j,cb in enumerate(b,1):\n",
    "            table[i][j] = (\n",
    "                min(table[i-1][j]+1,table[i][j-1]+1,table[i-1][j-1]) if ca ==cb \n",
    "            else min(table[i-1][j]+1,table[i][j-1]+1,table[i-1][j-1]+2)) \n",
    "    return table[-1][-1]\n",
    "\n",
    "    \n",
    "    "
   ]
  },
  {
   "cell_type": "code",
   "execution_count": 8,
   "metadata": {},
   "outputs": [
    {
     "data": {
      "text/plain": [
       "15"
      ]
     },
     "execution_count": 8,
     "metadata": {},
     "output_type": "execute_result"
    }
   ],
   "source": [
    "a = 'intentisdfonaaa'\n",
    "b = 'executsfwion'\n",
    "med(a,b)"
   ]
  },
  {
   "cell_type": "code",
   "execution_count": 9,
   "metadata": {},
   "outputs": [
    {
     "name": "stdout",
     "output_type": "stream",
     "text": [
      "5\n"
     ]
    }
   ],
   "source": [
    "word1=\"intention\"\n",
    "\n",
    "word2=\"execution\"\n",
    "\n",
    "len_1=len(word1)\n",
    "\n",
    "len_2=len(word2)\n",
    "\n",
    "x =[[0]*(len_2+1) for _ in range(len_1+1)]#the matrix whose last element ->edit distance\n",
    "\n",
    "for i in range(0,len_1+1): #initialization of base case values\n",
    "\n",
    "    x[i][0]=i\n",
    "for j in range(0,len_2+1):\n",
    "\n",
    "    x[0][j]=j\n",
    "for i in range (1,len_1+1):\n",
    "\n",
    "    for j in range(1,len_2+1):\n",
    "\n",
    "        if word1[i-1]==word2[j-1]:\n",
    "            x[i][j] = x[i-1][j-1] \n",
    "\n",
    "        else :\n",
    "            x[i][j]= min(x[i][j-1],x[i-1][j],x[i-1][j-1])+1\n",
    "\n",
    "print x[i][j]"
   ]
  },
  {
   "cell_type": "code",
   "execution_count": null,
   "metadata": {
    "collapsed": true
   },
   "outputs": [],
   "source": []
  },
  {
   "cell_type": "code",
   "execution_count": 10,
   "metadata": {
    "collapsed": true
   },
   "outputs": [],
   "source": [
    "def merge(list1,list2):\n",
    "    newlist = []\n",
    "    i = j = 0\n",
    "    while len(list1) > i or len(list2) > j:\n",
    "        if len(list1) > i and len(list2) > j:\n",
    "            if list1[i] > list2[j]:\n",
    "                newlist.append(list2[j])\n",
    "                j += 1\n",
    "            else:\n",
    "                newlist.append(list1[i])\n",
    "                i += 1\n",
    "        elif len(list1) > i:\n",
    "            newlist.append(list1[i])\n",
    "            i += 1\n",
    "        else:\n",
    "            newlist.append(list2[j])\n",
    "            j += 1\n",
    "            \n",
    "    return newlist"
   ]
  },
  {
   "cell_type": "code",
   "execution_count": 11,
   "metadata": {
    "collapsed": true
   },
   "outputs": [],
   "source": [
    "def merge_sort(mylist):\n",
    "    if len(mylist) <= 1:\n",
    "        return mylist\n",
    "    \n",
    "    mid = int(len(mylist)/2)\n",
    "    left = mylist[:mid]\n",
    "    right = mylist[mid:]\n",
    "    partition_left = merge_sort(left)\n",
    "    partition_right = merge_sort(right)\n",
    "    return merge(partition_left, partition_right)\n",
    "    \n",
    "    "
   ]
  },
  {
   "cell_type": "code",
   "execution_count": 12,
   "metadata": {},
   "outputs": [
    {
     "data": {
      "text/plain": [
       "[1, 2, 3, 3, 3, 4, 4, 5, 34, 232]"
      ]
     },
     "execution_count": 12,
     "metadata": {},
     "output_type": "execute_result"
    }
   ],
   "source": [
    "merge_sort([4,3,34,232,5,3,2,4,3,1])"
   ]
  },
  {
   "cell_type": "markdown",
   "metadata": {
    "collapsed": true
   },
   "source": [
    "# Dynamic Programming cut_rod "
   ]
  },
  {
   "cell_type": "markdown",
   "metadata": {},
   "source": [
    "### Recurisive method $Big$ $O(2^n)$"
   ]
  },
  {
   "cell_type": "code",
   "execution_count": 19,
   "metadata": {
    "collapsed": true
   },
   "outputs": [],
   "source": [
    "import sys\n",
    "def cut_rod(p,n):\n",
    "    if n == 0:\n",
    "        return 0\n",
    "    q = -sys.maxsize\n",
    "    for i in range(n):\n",
    "        q = max(q,p[i]+cut_rod(p,n-i-1))\n",
    "    return q"
   ]
  },
  {
   "cell_type": "code",
   "execution_count": 20,
   "metadata": {},
   "outputs": [
    {
     "data": {
      "text/plain": [
       "30"
      ]
     },
     "execution_count": 20,
     "metadata": {},
     "output_type": "execute_result"
    }
   ],
   "source": [
    "p = [1,5,8,9,10,17,17,20,24,30]\n",
    "n = 10\n",
    "cut_rod(p,n)"
   ]
  },
  {
   "cell_type": "markdown",
   "metadata": {},
   "source": [
    "### Top-down with memoization "
   ]
  },
  {
   "cell_type": "code",
   "execution_count": 50,
   "metadata": {},
   "outputs": [],
   "source": [
    "def memoized_cut_rod(p,n):\n",
    "    r = [-sys.maxsize for x in range(n)]\n",
    "    return memoized_cut_rod_aux(p,n,r)\n",
    "def memoized_cut_rod_aux(p,n,r):\n",
    "    if r[n-1] >= 0:\n",
    "        return r[n-1]\n",
    "    if n == 0:\n",
    "        q = 0\n",
    "    else:\n",
    "        q = -sys.maxsize\n",
    "        for i in range(n):\n",
    "            q = max(q, p[i]+memoized_cut_rod_aux(p,n-i-1,r))\n",
    "    r[n-1] = q\n",
    "    return q\n",
    "        "
   ]
  },
  {
   "cell_type": "code",
   "execution_count": 51,
   "metadata": {},
   "outputs": [
    {
     "data": {
      "text/plain": [
       "30"
      ]
     },
     "execution_count": 51,
     "metadata": {},
     "output_type": "execute_result"
    }
   ],
   "source": [
    "p = [1,5,8,9,10,17,17,20,24,30]\n",
    "n = 10\n",
    "memoized_cut_rod(p,n)"
   ]
  },
  {
   "cell_type": "markdown",
   "metadata": {},
   "source": [
    "### Bottom-up method"
   ]
  },
  {
   "cell_type": "code",
   "execution_count": 23,
   "metadata": {
    "collapsed": true
   },
   "outputs": [],
   "source": [
    "def bottom_up_cut_rod(p,n):\n",
    "    r = [0 for x in range(n+1)]\n",
    "    r[0] = 0\n",
    "    for j in range(1,n+1):\n",
    "        q = -sys.maxsize\n",
    "        for i in range(j):\n",
    "            q = max(q,p[i]+r[j-i-1])\n",
    "        r[j] = q\n",
    "    return r[n]"
   ]
  },
  {
   "cell_type": "code",
   "execution_count": 24,
   "metadata": {},
   "outputs": [
    {
     "data": {
      "text/plain": [
       "30"
      ]
     },
     "execution_count": 24,
     "metadata": {},
     "output_type": "execute_result"
    }
   ],
   "source": [
    "p = [1,5,8,9,10,17,17,20,24,30]\n",
    "n = 10\n",
    "bottom_up_cut_rod(p,n)"
   ]
  },
  {
   "cell_type": "code",
   "execution_count": 33,
   "metadata": {},
   "outputs": [],
   "source": [
    "def extended_bottom_up_cut_rod(p,n):\n",
    "    r = [0 for x in range(n+1)]\n",
    "    s = [0 for x in range(n+1)]\n",
    "    r[0] = 0\n",
    "    for j in range(1,n+1):\n",
    "        q = -sys.maxsize\n",
    "        for i in range(j):\n",
    "            if q < p[i] + r[j-i-1]:\n",
    "                q = p[i]+r[j-i-1]\n",
    "                s[j] = i+1\n",
    "\n",
    "        r[j] = q\n",
    "    return r,s"
   ]
  },
  {
   "cell_type": "code",
   "execution_count": 34,
   "metadata": {
    "collapsed": true
   },
   "outputs": [],
   "source": [
    "def print_cut_rod_solutions(p,n):\n",
    "    r,s = extended_bottom_up_cut_rod(p,n)\n",
    "    while n > 0:\n",
    "        print s[n]\n",
    "        n = n-s[n]"
   ]
  },
  {
   "cell_type": "code",
   "execution_count": 37,
   "metadata": {},
   "outputs": [
    {
     "name": "stdout",
     "output_type": "stream",
     "text": [
      "2\n",
      "2\n"
     ]
    }
   ],
   "source": [
    "p = [1,5,8,9,10,17,17,20,24,30]\n",
    "n = 4\n",
    "print_cut_rod_solutions(p,n)"
   ]
  },
  {
   "cell_type": "code",
   "execution_count": null,
   "metadata": {
    "collapsed": true
   },
   "outputs": [],
   "source": []
  }
 ],
 "metadata": {
  "kernelspec": {
   "display_name": "Python 2",
   "language": "python",
   "name": "python2"
  },
  "language_info": {
   "codemirror_mode": {
    "name": "ipython",
    "version": 2
   },
   "file_extension": ".py",
   "mimetype": "text/x-python",
   "name": "python",
   "nbconvert_exporter": "python",
   "pygments_lexer": "ipython2",
   "version": "2.7.13"
  }
 },
 "nbformat": 4,
 "nbformat_minor": 2
}
